{
 "cells": [
  {
   "cell_type": "code",
   "execution_count": null,
   "id": "9b8eae46",
   "metadata": {},
   "outputs": [],
   "source": [
    "# CLRImports is required to handle Lean C# objects for Mapped Datasets (Single asset and Universe Selection)\n",
    "from CLRImports import *\n",
    "\n",
    "# To generate the Security Identifier, we need to create and initialize the Map File Provider\n",
    "# and call the SecurityIdentifier.GenerateEquity method\n",
    "mapFileProvider = LocalZipMapFileProvider()\n",
    "mapFileProvider.Initialize(DefaultDataProvider())\n",
    "sid = SecurityIdentifier.GenerateEquity(\"BAC\", Market.USA, True, mapFileProvider, datetime(2022, 3, 1))"
   ]
  }
 ],
 "metadata": {
  "kernelspec": {
   "display_name": "Python 3",
   "language": "python",
   "name": "python3"
  },
  "language_info": {
   "codemirror_mode": {
    "name": "ipython",
    "version": 3
   },
   "file_extension": ".py",
   "mimetype": "text/x-python",
   "name": "python",
   "nbconvert_exporter": "python",
   "pygments_lexer": "ipython3",
   "version": "3.6.13"
  }
 },
 "nbformat": 4,
 "nbformat_minor": 5
}
